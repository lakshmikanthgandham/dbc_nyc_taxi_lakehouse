{
 "cells": [
  {
   "cell_type": "code",
   "execution_count": 0,
   "metadata": {
    "application/vnd.databricks.v1+cell": {
     "cellMetadata": {
      "byteLimit": 2048000,
      "rowLimit": 10000
     },
     "inputWidgets": {},
     "nuid": "4545b1a7-487b-4e3c-b76f-81d764e5f3bf",
     "showTitle": false,
     "tableResultSettingsMap": {},
     "title": ""
    }
   },
   "outputs": [],
   "source": [
    "from pyspark.sql import functions as F"
   ]
  },
  {
   "cell_type": "code",
   "execution_count": 0,
   "metadata": {
    "application/vnd.databricks.v1+cell": {
     "cellMetadata": {
      "byteLimit": 2048000,
      "rowLimit": 10000
     },
     "inputWidgets": {},
     "nuid": "66477c55-25ea-4107-a97f-df246b825cd0",
     "showTitle": false,
     "tableResultSettingsMap": {},
     "title": ""
    }
   },
   "outputs": [],
   "source": [
    "# Set paths\n",
    "silver_table_path = \"gs://databricks-glk-dbx-ext-storage/nyc_taxi_lakehouse/silver/silver_fhv_tripdata\"\n",
    "gold_table_path = \"gs://databricks-glk-dbx-ext-storage/nyc_taxi_lakehouse/gold/gold_fhv_tripdata\"\n",
    "\n",
    "# --- Catalog/Schema (if Unity Catalog enabled) ---\n",
    "catalog_name = \"nyc_taxi_catalog\"\n",
    "schema_name  = \"nyc_taxi_lakehouse\"\n",
    "table_name   = \"gold_fhv_tripdata\""
   ]
  },
  {
   "cell_type": "code",
   "execution_count": 0,
   "metadata": {
    "application/vnd.databricks.v1+cell": {
     "cellMetadata": {
      "byteLimit": 2048000,
      "rowLimit": 10000
     },
     "inputWidgets": {},
     "nuid": "99061399-b9a3-4487-b090-6785b48febfa",
     "showTitle": false,
     "tableResultSettingsMap": {},
     "title": ""
    }
   },
   "outputs": [],
   "source": [
    "df_silver = spark.read.format(\"delta\").load(silver_table_path)\n",
    "\n",
    "df_gold = (\n",
    "    df_silver\n",
    "    .withColumn(\"month\", F.date_format(\"pickup_datetime\", \"yyyy-MM\"))\n",
    "    .groupBy(\"month\", \"hvfhs_license_num\")\n",
    "    .agg(\n",
    "        F.count(\"*\").alias(\"total_trips\"),\n",
    "        F.avg(\"base_passenger_fare\").alias(\"avg_base_fare\"),\n",
    "        F.avg(\"trip_miles\").alias(\"avg_trip_miles\"),\n",
    "        F.avg(\"trip_time\").alias(\"avg_trip_time_sec\"),\n",
    "        F.sum(\"base_passenger_fare\").alias(\"total_fare\"),\n",
    "        F.sum(\"driver_pay\").alias(\"total_driver_pay\")\n",
    "    )\n",
    "    .withColumn(\"data_load_timestamp\", F.current_timestamp())\n",
    ")\n",
    "\n",
    "df_gold.write.format(\"delta\").partitionBy(\"month\").option(\"overwriteSchema\", \"true\").mode(\"overwrite\").save(gold_table_path)\n",
    "\n",
    "print(f\"✅ Gold data written successfully to {gold_table_path}\")"
   ]
  },
  {
   "cell_type": "code",
   "execution_count": 0,
   "metadata": {
    "application/vnd.databricks.v1+cell": {
     "cellMetadata": {
      "byteLimit": 2048000,
      "rowLimit": 10000
     },
     "inputWidgets": {},
     "nuid": "4098d0b8-375c-4e5a-8420-f7e3c3e7f21f",
     "showTitle": false,
     "tableResultSettingsMap": {},
     "title": ""
    }
   },
   "outputs": [],
   "source": [
    "spark.sql(f\"\"\"\n",
    "          CREATE TABLE IF NOT EXISTS {catalog_name}.{schema_name}.{table_name}\n",
    "          USING DELTA\n",
    "          LOCATION '{gold_table_path}'\"\"\")"
   ]
  },
  {
   "cell_type": "code",
   "execution_count": 0,
   "metadata": {
    "application/vnd.databricks.v1+cell": {
     "cellMetadata": {
      "byteLimit": 2048000,
      "rowLimit": 10000
     },
     "inputWidgets": {},
     "nuid": "ae6c7848-35b2-41c2-8c54-6e774d457315",
     "showTitle": false,
     "tableResultSettingsMap": {},
     "title": ""
    }
   },
   "outputs": [],
   "source": [
    "spark.sql(f\"select * from {catalog_name}.{schema_name}.{table_name}\").display()"
   ]
  },
  {
   "cell_type": "code",
   "execution_count": 0,
   "metadata": {
    "application/vnd.databricks.v1+cell": {
     "cellMetadata": {
      "byteLimit": 2048000,
      "rowLimit": 10000
     },
     "inputWidgets": {},
     "nuid": "f8a9e158-2cef-4e92-b3d8-ebc6dd8959c2",
     "showTitle": false,
     "tableResultSettingsMap": {},
     "title": ""
    }
   },
   "outputs": [],
   "source": [
    "# Fully qualified table\n",
    "catalog_name = \"nyc_taxi_catalog\"\n",
    "schema_name = \"nyc_taxi_lakehouse\"\n",
    "gold_table_name = \"gold_fhv_tripdata\"\n",
    "fq_gold_table = f\"{catalog_name}.{schema_name}.{gold_table_name}\"\n",
    "\n",
    "# Latest month just ingested (adjust per run)\n",
    "latest_month = \"2025-06\"\n",
    "\n",
    "# Optimize the latest partition\n",
    "spark.sql(f\"\"\"\n",
    "OPTIMIZE {fq_gold_table}\n",
    "WHERE month = '{latest_month}'\n",
    "ZORDER BY (hvfhs_license_num)\n",
    "\"\"\")\n",
    "\n",
    "# Compute stats\n",
    "spark.sql(f\"ANALYZE TABLE {fq_gold_table} COMPUTE STATISTICS\")\n",
    "spark.sql(f\"ANALYZE TABLE {fq_gold_table} COMPUTE STATISTICS FOR COLUMNS month, hvfhs_license_num\")\n",
    "\n",
    "\n",
    "# Optional: vacuum old files\n",
    "spark.sql(f\"VACUUM {fq_gold_table} RETAIN 168 HOURS\")"
   ]
  },
  {
   "cell_type": "code",
   "execution_count": 0,
   "metadata": {
    "application/vnd.databricks.v1+cell": {
     "cellMetadata": {
      "byteLimit": 2048000,
      "rowLimit": 10000
     },
     "inputWidgets": {},
     "nuid": "a307cbd2-fdf4-4f21-9e57-d95c1c22dffc",
     "showTitle": false,
     "tableResultSettingsMap": {},
     "title": ""
    }
   },
   "outputs": [],
   "source": [
    "spark.sql(f\"DESCRIBE DETAIL {fq_gold_table}\").display()"
   ]
  }
 ],
 "metadata": {
  "application/vnd.databricks.v1+notebook": {
   "computePreferences": null,
   "dashboards": [],
   "environmentMetadata": {
    "base_environment": "",
    "environment_version": "4"
   },
   "inputWidgetPreferences": null,
   "language": "python",
   "notebookMetadata": {
    "mostRecentlyExecutedCommandWithImplicitDF": {
     "commandId": 4825936749374170,
     "dataframes": [
      "_sqldf"
     ]
    },
    "pythonIndentUnit": 4
   },
   "notebookName": "gold_aggregation_nyc_taxi",
   "widgets": {}
  },
  "language_info": {
   "name": "python"
  }
 },
 "nbformat": 4,
 "nbformat_minor": 0
}
