{
 "cells": [
  {
   "cell_type": "code",
   "execution_count": 0,
   "metadata": {
    "application/vnd.databricks.v1+cell": {
     "cellMetadata": {
      "byteLimit": 2048000,
      "rowLimit": 10000
     },
     "inputWidgets": {},
     "nuid": "5e4719db-f617-44d9-8848-7456975aa452",
     "showTitle": false,
     "tableResultSettingsMap": {},
     "title": ""
    }
   },
   "outputs": [],
   "source": [
    "from pyspark.sql import functions as F"
   ]
  },
  {
   "cell_type": "code",
   "execution_count": 0,
   "metadata": {
    "application/vnd.databricks.v1+cell": {
     "cellMetadata": {
      "byteLimit": 2048000,
      "rowLimit": 10000
     },
     "inputWidgets": {},
     "nuid": "16d16e4b-0b5f-443c-a75f-be47837c926c",
     "showTitle": false,
     "tableResultSettingsMap": {},
     "title": ""
    }
   },
   "outputs": [],
   "source": [
    "sf_options = {\n",
    "    \"sfURL\": \"https://hdsdgvf-br32320.snowflakecomputing.com\",\n",
    "    \"sfDatabase\": \"NYC_TAXI_DB\",\n",
    "    \"sfSchema\": \"PUBLIC\",\n",
    "    \"sfWarehouse\": \"NEW_NYC_TAXI_WH\",\n",
    "    \"sfRole\": \"ACCOUNTADMIN\",\n",
    "    \"sfUser\": \"Glkanth9\",\n",
    "    \"sfPassword\": \"Gandhamlakshmikanth1991\"\n",
    "}"
   ]
  },
  {
   "cell_type": "code",
   "execution_count": 0,
   "metadata": {
    "application/vnd.databricks.v1+cell": {
     "cellMetadata": {
      "byteLimit": 2048000,
      "rowLimit": 10000
     },
     "inputWidgets": {},
     "nuid": "9fda655d-dba4-47d3-8241-1738462f6083",
     "showTitle": false,
     "tableResultSettingsMap": {},
     "title": ""
    }
   },
   "outputs": [],
   "source": [
    "gold_table_path = \"gs://databricks-glk-dbx-ext-storage/nyc_taxi_lakehouse/gold/gold_fhv_tripdata\"\n",
    "\n",
    "df_gold = spark.read.format(\"delta\").load(gold_table_path)\n",
    "\n",
    "print(\"Gold table loaded from Delta Lake:\")\n",
    "df_gold.show(5)"
   ]
  },
  {
   "cell_type": "code",
   "execution_count": 0,
   "metadata": {
    "application/vnd.databricks.v1+cell": {
     "cellMetadata": {
      "byteLimit": 2048000,
      "rowLimit": 10000
     },
     "inputWidgets": {},
     "nuid": "a5dd59cf-1d06-446c-bef5-519c2b12f1fc",
     "showTitle": false,
     "tableResultSettingsMap": {},
     "title": ""
    }
   },
   "outputs": [],
   "source": [
    "df_gold_clean = (\n",
    "    df_gold\n",
    "    .withColumn(\"total_trips\", F.col(\"total_trips\").cast(\"long\"))\n",
    "    .withColumn(\"avg_base_fare\", F.col(\"avg_base_fare\").cast(\"double\"))\n",
    "    .withColumn(\"avg_trip_miles\", F.col(\"avg_trip_miles\").cast(\"double\"))\n",
    "    .withColumn(\"avg_trip_time_sec\", F.col(\"avg_trip_time_sec\").cast(\"double\"))\n",
    "    .withColumn(\"total_fare\", F.col(\"total_fare\").cast(\"double\"))\n",
    "    .withColumn(\"total_driver_pay\", F.col(\"total_driver_pay\").cast(\"double\"))\n",
    ")\n",
    "\n"
   ]
  },
  {
   "cell_type": "code",
   "execution_count": 0,
   "metadata": {
    "application/vnd.databricks.v1+cell": {
     "cellMetadata": {
      "byteLimit": 2048000,
      "rowLimit": 10000
     },
     "inputWidgets": {},
     "nuid": "3ceb2646-0220-44c7-aa19-1e2d4e198488",
     "showTitle": false,
     "tableResultSettingsMap": {},
     "title": ""
    }
   },
   "outputs": [],
   "source": [
    "df_gold_clean.write \\\n",
    "    .format(\"snowflake\") \\\n",
    "    .options(**sf_options) \\\n",
    "    .option(\"dbtable\", \"NYC_TAXI_GOLD\") \\\n",
    "    .mode(\"overwrite\") \\\n",
    "    .save()\n",
    "\n",
    "print(\"Gold table successfully loaded into Snowflake!\")"
   ]
  }
 ],
 "metadata": {
  "application/vnd.databricks.v1+notebook": {
   "computePreferences": null,
   "dashboards": [],
   "environmentMetadata": {
    "base_environment": "",
    "environment_version": "4"
   },
   "inputWidgetPreferences": null,
   "language": "python",
   "notebookMetadata": {
    "pythonIndentUnit": 4
   },
   "notebookName": "snowflake_load_gold_nyc_taxi",
   "widgets": {}
  },
  "language_info": {
   "name": "python"
  }
 },
 "nbformat": 4,
 "nbformat_minor": 0
}
